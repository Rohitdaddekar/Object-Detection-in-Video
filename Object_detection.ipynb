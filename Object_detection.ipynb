{
 "cells": [
  {
   "cell_type": "markdown",
   "id": "ff9717a7",
   "metadata": {},
   "source": [
    "# Importing Libraries"
   ]
  },
  {
   "cell_type": "code",
   "execution_count": 7,
   "id": "1646f17f",
   "metadata": {
    "scrolled": true
   },
   "outputs": [],
   "source": [
    "import cv2\n",
    "import matplotlib.pyplot as plt"
   ]
  },
  {
   "cell_type": "code",
   "execution_count": 8,
   "id": "0ed21a25",
   "metadata": {
    "scrolled": true
   },
   "outputs": [],
   "source": [
    "congif_file = 'ssd_mobilenet_v3_large_coco_2020_01_14.pbtxt'\n",
    "frozen_model = 'frozen_inference_graph.pb'"
   ]
  },
  {
   "cell_type": "markdown",
   "id": "13daf69e",
   "metadata": {},
   "source": [
    "# Creating Model"
   ]
  },
  {
   "cell_type": "code",
   "execution_count": 9,
   "id": "eac003f2",
   "metadata": {
    "scrolled": true
   },
   "outputs": [],
   "source": [
    "model = cv2.dnn_DetectionModel(frozen_model,congif_file)"
   ]
  },
  {
   "cell_type": "code",
   "execution_count": 10,
   "id": "c4f687f4",
   "metadata": {
    "scrolled": true
   },
   "outputs": [],
   "source": [
    "sample = []\n",
    "file_name = 'names.txt'\n",
    "with open (file_name,'r+') as file:\n",
    "    sample = file.read().rstrip('\\n').split('\\n')\n"
   ]
  },
  {
   "cell_type": "code",
   "execution_count": 11,
   "id": "b3c018a3",
   "metadata": {
    "scrolled": true
   },
   "outputs": [
    {
     "name": "stdout",
     "output_type": "stream",
     "text": [
      "['person', 'bicycle', 'car', 'motorbike', 'aeroplane', 'bus', 'train', 'truck', 'boat', 'traffic light', 'fire hydrant', 'stop sign', 'parking meter', 'bench', 'bird', 'cat', 'dog', 'horse', 'sheep', 'cow', 'elephant', 'bear', 'zebra', 'giraffe', 'backpack', 'umbrella', 'handbag', 'tie', 'suitcase', 'frisbee', 'skis', 'snowboard', 'sports ball', 'kite', 'baseball bat', 'baseball glove', 'skateboard', 'surfboard', 'tennis racket', 'bottle', 'wine glass', 'cup', 'fork', 'knife', 'spoon', 'bowl', 'banana', 'apple', 'sandwich', 'orange', 'broccoli', 'carrot', 'hot dog', 'pizza', 'donut', 'cake', 'chair', 'sofa', 'pottedplant', 'bed', 'diningtable', 'toilet', 'tvmonitor', 'laptop', 'mouse', 'remote', 'keyboard', 'cell phone', 'microwave', 'oven', 'toaster', 'sink', 'refrigerator', 'book', 'clock', 'vase', 'scissors', 'teddy bear', 'hair drier', 'toothbrush']\n"
     ]
    }
   ],
   "source": [
    "print(sample)"
   ]
  },
  {
   "cell_type": "code",
   "execution_count": 12,
   "id": "45cefd55",
   "metadata": {
    "scrolled": true
   },
   "outputs": [
    {
     "data": {
      "text/plain": [
       "<dnn_Model 000002BD629F0070>"
      ]
     },
     "execution_count": 12,
     "metadata": {},
     "output_type": "execute_result"
    }
   ],
   "source": [
    "model.setInputSize(320,320)\n",
    "model.setInputScale(1.0/127.5)\n",
    "model.setInputMean((127.5,127.5,127.5))\n",
    "model.setInputSwapRB(True)"
   ]
  },
  {
   "cell_type": "code",
   "execution_count": 13,
   "id": "e1729459",
   "metadata": {},
   "outputs": [],
   "source": [
    "# img = cv2.imread('New_image1.png')"
   ]
  },
  {
   "cell_type": "code",
   "execution_count": 14,
   "id": "53bd67be",
   "metadata": {},
   "outputs": [],
   "source": [
    "# plt.imshow(img)"
   ]
  },
  {
   "cell_type": "code",
   "execution_count": 15,
   "id": "a9f590ee",
   "metadata": {},
   "outputs": [],
   "source": [
    "# plt.imshow(cv2.cvtColor(img,cv2.COLOR_BGR2RGB))"
   ]
  },
  {
   "cell_type": "code",
   "execution_count": 16,
   "id": "4f22cc09",
   "metadata": {},
   "outputs": [],
   "source": [
    "# ClassIndex, confidence, bbox = model.detect(img,confThreshold = 0.50)"
   ]
  },
  {
   "cell_type": "code",
   "execution_count": 17,
   "id": "781fc44e",
   "metadata": {},
   "outputs": [],
   "source": [
    "# print(ClassIndex)"
   ]
  },
  {
   "cell_type": "code",
   "execution_count": 18,
   "id": "d4833276",
   "metadata": {},
   "outputs": [],
   "source": [
    "# font_scale = 3\n",
    "# font = cv2.FONT_HERSHEY_PLAIN\n",
    "# for ClassInd,conf,boxes in zip(ClassIndex,confidence,bbox):\n",
    "#     cv2.rectangle(img,boxes,(255,0,0),2)\n",
    "#     cv2.putText(img,sample[ClassInd-1],(boxes[0]+10,boxes[1]+40),font,fontScale = font_scale,color = (0,255,0),thickness = 3)"
   ]
  },
  {
   "cell_type": "code",
   "execution_count": 19,
   "id": "19d12ea5",
   "metadata": {},
   "outputs": [],
   "source": [
    "# plt.imshow(cv2.cvtColor(img,cv2.COLOR_BGR2RGB))"
   ]
  },
  {
   "cell_type": "markdown",
   "id": "37ffae0d",
   "metadata": {},
   "source": [
    "# Video File Importing"
   ]
  },
  {
   "cell_type": "code",
   "execution_count": 21,
   "id": "41c91438",
   "metadata": {
    "scrolled": false
   },
   "outputs": [
    {
     "name": "stdout",
     "output_type": "stream",
     "text": [
      "[ 1  3  1  1 31  1  1  1  1  1  1  1]\n",
      "[ 1  3  1  1 31  1  1  1  1  1  1  1]\n",
      "[ 1  3  1  1 31  1  1  1  1  1  1  1]\n",
      "[ 1  3  1  1 31  1  1  1  1  1  1  1]\n",
      "[ 1  3  1  1 31  1  1  1  1  1  1  1]\n",
      "[ 1  3  1  1 31  1  1  1  1  1  1  1]\n",
      "[ 1  3  1  1 31  1  1  1  1  1  1  1]\n",
      "[ 1  3  1  1 31  1  1  1  1  1  1  1]\n",
      "[ 1  3  1  1 31  1  1  1  1  1  1  1]\n",
      "[ 3  1 31  1  1  1  1  1  1  1  1  1]\n",
      "[ 3  1 31  1  1  1  1  1  1  1  1  1]\n",
      "[ 3  1 31  1  1  1  1  1  1  1  1  1]\n",
      "[ 3  1 31  1  1  1  1  1  1  1  1  1]\n",
      "[ 3  1 31  1  1  1  1  1  1  1  1  1]\n",
      "[ 3  1 31  1  1  1  1  1  1  1  1  1]\n",
      "[ 3  1 31  1  1  1  1  1  1  1  1  1]\n",
      "[ 3  1 31  1  1  1  1  1  1  1  1  1]\n",
      "[ 3  1 31  1  1  1  1  1  1  1  1  1]\n",
      "[ 1  3 31  1  1  1  1  1  1  1  1  1]\n",
      "[ 3  1 31  1  1  1  1  1  1  1  1  1]\n",
      "[ 1  3 31  1  1  1  1  1  1  1  1  1]\n",
      "[ 1  3 31  1  1  1  1  1  1  1  1  1]\n",
      "[ 1  3 31  1  1  1  1  1  1  1  1  1]\n",
      "[ 1  3 31  1  1  1  1  1  1  1  1  1]\n",
      "[ 1  3 31  1  1  1  1  1  1  1  1  1]\n",
      "[ 1  3 31  1  1  1  1  1  1  1  1  1]\n",
      "[ 1  3 31  1  1  1  1  1  1  1  1  1]\n",
      "[ 1  3 31  1  1  1  1  1  1  1  1  1]\n",
      "[ 1  3 31  1  1  1  1  1  1  1  1  1]\n",
      "[ 1  3 31  1  1  1  1  1  1  1  1  1]\n",
      "[ 1  3 31  1  1  1  1  1  1  1  1  1]\n",
      "[ 1  3 31  1  1  1  1  1  1  1  1  1]\n",
      "[ 1  3 31  1  1  1  1  1  1  1  1  1]\n",
      "[ 1  3 31  1  1  1  1  1  1  1  1  1]\n",
      "[ 1  3 31  1  1  1  1  1  1  1  1  1]\n",
      "[ 1  3 31  1  1  1  1  1  1  1  1  1]\n",
      "[ 1  3 31  1  1  1  1  1  1  1  1  1]\n",
      "[ 1  3 31  1  1  1  1  1  1  1  1  1]\n",
      "[ 1  3 31  1  1  1  1  1  1  1  1  1]\n",
      "[ 1  3 31  1  1  1  1  1  1  1  1  1]\n",
      "[ 1  3 31  1  1  1  1  1  1  1  1  1]\n",
      "[ 1  3 31  1  1  1  1  1  1  1  1  1]\n",
      "[ 1  3 31  1  1  1  1  1  1  1  1  1]\n",
      "[ 1  3 31  1  1  1  1  1  1  1  1  1]\n",
      "[ 1  3 31  1  1  1  1  1  1  1  1  1]\n",
      "[ 1  3 31  1  1  1  1  1  1  1  1  1]\n",
      "[ 1  3 31  1  1  1  1  1  1  1  1]\n",
      "[ 1  3 31  1  1  1  1  1  1  1  1  1]\n",
      "[ 1  3 31  1  1  1  1  1  1  1  1]\n",
      "[ 1  3 31  1  1  1  1  1  1  1  1]\n",
      "[ 1  3 31  1  1  1  1  1  1  1  1]\n",
      "[ 1  3 31  1  1  1  1  1  1  1  1  1]\n",
      "[ 1  3 31  1  1  1  1  1  1  1  1  1]\n",
      "[ 1  3 31  1  1  1  1  1  1  1  1  1]\n",
      "[ 1  3 31  1  1  1  1  1  1  1  1  1]\n",
      "[ 1  3 31  1  1  1  1  1  1  1  1  1]\n",
      "[ 1  3 31  1  1  1  1  1  1  1  1  1]\n",
      "[ 1  3 31  1  1  1  1  1  1  1  1  1]\n",
      "[ 1  3 31  1  1  1  1  1  1  1  1  1]\n",
      "[ 1  3 31  1  1  1  1  1  1  1  1  1]\n",
      "[ 1  3 31  1  1  1  1  1  1  1  1  1]\n",
      "[ 1  3 31  1  1  1  1  1  1  1  1  1]\n",
      "[ 1  3 31  1  1  1  1  1  1  1  1  1]\n",
      "[ 1  3 31  1  1  1  1  1  1  1  1  1]\n",
      "[ 1  3 31  1  1  1  1  1  1  1  1  1]\n",
      "[ 1  3 31  1  1  1  1  1  1  1  1]\n",
      "[ 1  3 31  1  1  1  1  1  1  1  1  1]\n",
      "[ 1  3 31  1  1  1  1  1  1  1  1  1]\n",
      "[ 1  3 31  1  1  1  1  1  1  1  1  1]\n",
      "[ 1  3 31  1  1  1  1  1  1  1  1  1]\n",
      "[ 1  3 31  1  1  1  1  1 31  1]\n",
      "[ 1  3 31  1  1  1  1  1 31  1]\n",
      "[ 1  3 31  1  1  1  1  1 31  1]\n",
      "[ 1  3 31  1  1  1  1  1 31  1]\n",
      "[ 1  3 31  1  1  1  1  1 31  1]\n",
      "[ 1  3 31  1  1  1  1  1 31  1]\n",
      "[ 1  3 31  1  1  1  1  1 31  1]\n",
      "[ 1  3 31  1  1  1  1  1 31  1]\n",
      "[ 1  3 31  1  1  1  1  1 31  1]\n",
      "[ 1  3 31  1  1  1  1  1  1 31]\n",
      "[ 1  3 31  1  1  1  1  1 31  1]\n",
      "[ 1  3 31  1  1  1  1  1 31  1]\n",
      "[ 1  3 31  1  1  1  1  1 31  1]\n",
      "[ 1  3 31  1  1  1  1  1 31  1]\n",
      "[ 1  3 31  1  1  1  1  1 31  1]\n",
      "[ 1  3 31  1  1  1  1  1 31  1]\n",
      "[ 1  3 31  1  1  1  1  1 31  1  1]\n",
      "[ 1  3 31  1  1  1  1  1 31  1  1]\n",
      "[ 1  3 31  1  1  1  1  1 31  1  1  1]\n",
      "[ 1  3 31  1  1  1  1  1 31  1  1  1]\n",
      "[ 1  3 31  1  1  1  1  1 31  1  1  1]\n",
      "[ 1  3 31  1  1  1  1  1 31  1  1  1]\n",
      "[ 1  3 31  1  1  1  1  1 31  1  1  1]\n",
      "[ 1  3 31  1  1  1  1  1 31  1  1  1]\n",
      "[ 1  3 31  1  1  1  1  1 31  1  1  1]\n",
      "[ 1  3 31  1  1  1  1  1 31  1  1  1]\n",
      "[ 1  3 31  1  1  1  1  1 31  1  1  1]\n",
      "[ 1  3 31  1  1  1  1  1 31  1  1]\n",
      "[ 1  3 31  1  1  1  1  1 31  1  1]\n",
      "[ 1  3 31  1  1  1  1  1 31  1  1]\n",
      "[ 1  3 31  1  1  1  1  1 31  1  1]\n",
      "[ 1  3 31  1  1  1  1  1 31  1  1]\n",
      "[ 1  3 31  1  1  1  1  1 31  1  1]\n",
      "[ 1  3 31  1  1  1  1  1 31  1  1]\n",
      "[3 1 3 1 1 1 3]\n",
      "[3 1 3 1 1 1 3]\n",
      "[3 1 3 1 1 1 3 3]\n",
      "[3 1 3 1 1 1 3 3]\n",
      "[3 1 3 1 1 1 3 3]\n",
      "[3 1 3 1 1 3 1 3]\n",
      "[3 1 3 1 1 3 1 3]\n",
      "[3 1 3 1 1 1 3 3]\n",
      "[3 1 3 1 1 1 3 3]\n",
      "[3 1 3 1 1 1 3 3]\n",
      "[3 1 3 1 1 1 3 3]\n",
      "[3 1 3 1 1 1 3 3]\n",
      "[3 1 3 1 1 1 3 3]\n",
      "[3 1 3 1 1 1 3 3]\n",
      "[3 1 3 1 1 1 3 3]\n",
      "[3 1 3 1 1 1 3 3]\n",
      "[3 1 3 1 1 1 3 3]\n",
      "[3 1 3 1 3 1 1 3]\n",
      "[3 1 3 1 3 1 1 3]\n",
      "[3 1 3 1 1 3 1 3 1]\n",
      "[3 1 3 1 1 1 3 3 1]\n",
      "[3 1 3 1 1 1 3 3 1]\n",
      "[3 1 3 1 1 1 3 3 1]\n",
      "[3 1 3 1 1 1 3 3 1]\n",
      "[3 1 3 1 1 3 1 3 1]\n",
      "[3 1 3 1 1 3 1 3 1]\n",
      "[3 1 3 1 3 1 1 3 1]\n",
      "[3 1 3 1 3 1 1 3 1]\n",
      "[3 1 3 1 3 1 1 3 1]\n",
      "[3 1 3 1 3 1 1 3 1]\n",
      "[3 3 1 3 1 1 1 3 1]\n",
      "[3 3 1 1 3 1 1 3 1]\n",
      "[3 1 3 1 3 1 1 3 1]\n",
      "[3 1 3 1 3 1 1 3 1]\n",
      "[3 3 1 1 3 1 1 3 1]\n",
      "[3 3 1 3 1 1 1 3]\n",
      "[3 3 1 3 1 1 3 1 1]\n",
      "[3 3 1 3 1 1 3 1 1]\n",
      "[3 3 1 1 3 1 3 1 1]\n",
      "[3 3 1 3 1 3 1 1 1]\n",
      "[3 1 3 1 3 1 3 1 1]\n",
      "[3 1 3 1 3 1 3 1 1]\n",
      "[3 1 3 1 3 1 3 1 1]\n",
      "[3 1 3 1 3 1 3 1 1]\n",
      "[3 1 1 3 3 1 3 1 6 1 1]\n",
      "[3 1 3 1 3 1 3 1 1 6]\n",
      "[3 1 3 3 1 1 3 1 1 6 1]\n",
      "[3 1 3 1 3 1 3 1 1 6]\n",
      "[3 1 3 3 1 1 3 1 1 6]\n",
      "[3 1 3 1 3 1 3 1 6 1]\n",
      "[3 1 3 1 3 1 3 6 1 1]\n",
      "[3 1 3 1 3 1 3 6 1 1]\n",
      "[3 1 3 1 3 1 6 1 3 1]\n",
      "[3 1 3 3 1 1 6 1 3 1]\n",
      "[3 1 1 3 3 1 6 1 3 1]\n",
      "[3 1 1 3 3 1 6 1 3 1]\n",
      "[3 1 1 3 3 1 6 1 3 1]\n",
      "[3 1 1 3 3 1 6 1 3 1]\n"
     ]
    }
   ],
   "source": [
    "video = cv2.VideoCapture('video.mp4')\n",
    "\n",
    "if not video.isOpened():\n",
    "    video = cv2.VideoCapture(0)\n",
    "if not video.isOpened():\n",
    "    raise IOError('video can not open')\n",
    "    \n",
    "font_scale = 3\n",
    "font = cv2.FONT_HERSHEY_PLAIN\n",
    "\n",
    "while True:\n",
    "    ret,frame = video.read()\n",
    "    ClassIndex, confidence, bbox = model.detect(frame,confThreshold = 0.55)\n",
    "    \n",
    "    print(ClassIndex)\n",
    "    if(len(ClassIndex)!=0):\n",
    "        for ClassInd,conf,boxes in zip(ClassIndex,confidence,bbox):\n",
    "            if(ClassInd<=80):\n",
    "                cv2.rectangle(frame,boxes,(255,0,0),2)\n",
    "                cv2.putText(frame,sample[ClassInd-1],(boxes[0]+10,boxes[1]+40),font,fontScale = font_scale,color = (0,255,0),thickness = 3)\n",
    "                \n",
    "    cv2.imshow('Object Detection',frame) \n",
    "    \n",
    "    if cv2.waitKey(2) & 0xFF == ord('q'):\n",
    "        break\n",
    "        \n",
    "video.release()\n",
    "cv2.destroyAllWindows()\n",
    "    "
   ]
  },
  {
   "cell_type": "code",
   "execution_count": null,
   "id": "37bdaeed",
   "metadata": {},
   "outputs": [],
   "source": []
  }
 ],
 "metadata": {
  "kernelspec": {
   "display_name": "Python 3 (ipykernel)",
   "language": "python",
   "name": "python3"
  },
  "language_info": {
   "codemirror_mode": {
    "name": "ipython",
    "version": 3
   },
   "file_extension": ".py",
   "mimetype": "text/x-python",
   "name": "python",
   "nbconvert_exporter": "python",
   "pygments_lexer": "ipython3",
   "version": "3.9.7"
  }
 },
 "nbformat": 4,
 "nbformat_minor": 5
}
